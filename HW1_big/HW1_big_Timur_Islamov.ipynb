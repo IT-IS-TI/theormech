{
 "nbformat": 4,
 "nbformat_minor": 0,
 "metadata": {
  "colab": {
   "provenance": []
  },
  "kernelspec": {
   "name": "python3",
   "language": "python",
   "display_name": "Python 3 (ipykernel)"
  },
  "language_info": {
   "name": "python"
  }
 },
 "cells": [
  {
   "cell_type": "markdown",
   "source": [
    "# Homework 1 BIG"
   ],
   "metadata": {
    "id": "aG-3QfCF_qty"
   }
  },
  {
   "cell_type": "markdown",
   "source": [
    "# Task description\n",
    "We have a mobile vehicle, which should survive after the track. We have some predefined trajectory, which is given in y(x) format.\n",
    "The goal is to pass this trajectory as fast as possible. But at the end of the path, there is a drop-off. It means that the vehicle should stop in the end.\n",
    "We have to establish some constraints, such as max tangent acceleration (max power on the motor), normal acceleration (road adhesion).\n",
    "How the vehicle should move (speed and acceleration) for solving such a task?\n",
    "Report:\n",
    "1. Vehicle simulation on the path. You should show a $\\vec{v}, \\vec{a}, \\vec{a_{\\tau}}, \\vec{a_n}$ on the simulation.\n",
    "2. plots: $y(t), v(t), a_{\\tau}(t), a_n(t)$, — $t$ is time in seconds.\n",
    "Parameters:\n",
    "$y(x) = Axln(\\frac{x}{B})$, where $A = 3, B = 5, x ∈ [0..4]$\n",
    "$a_{\\tau{max}} = 2, a_{n_{max}} = 3, v_{max} = 3$"
   ],
   "metadata": {
    "collapsed": false
   }
  },
  {
   "cell_type": "code",
   "source": [
    "import numpy as np\n",
    "import matplotlib.pyplot as plt\n",
    "import matplotlib.animation as anim\n",
    "from sympy import solve, diff, sin, cos, lambdify\n",
    "from sympy.abc import symbols\n",
    "from IPython.display import HTML, display\n",
    "\n",
    "\n"
   ],
   "metadata": {
    "id": "gvdltQIxNbWM",
    "ExecuteTime": {
     "end_time": "2024-02-09T20:58:28.574229900Z",
     "start_time": "2024-02-09T20:58:28.493316200Z"
    }
   },
   "execution_count": 629,
   "outputs": []
  }
 ]
}
