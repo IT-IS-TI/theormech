{
 "nbformat": 4,
 "nbformat_minor": 0,
 "metadata": {
  "colab": {
   "provenance": []
  },
  "kernelspec": {
   "name": "python3",
   "language": "python",
   "display_name": "Python 3 (ipykernel)"
  },
  "language_info": {
   "name": "python"
  }
 },
 "cells": [
  {
   "cell_type": "markdown",
   "source": [
    "# Homework 3"
   ],
   "metadata": {
    "id": "aG-3QfCF_qty"
   }
  },
  {
   "cell_type": "markdown",
   "source": [
    "# Task 1 (No coding, ura!)"
   ],
   "metadata": {
    "collapsed": false
   }
  },
  {
   "cell_type": "markdown",
   "source": [
    "# Task 2 (Coding)\n",
    "\n",
    "You should find:\n",
    "1. simulate this mechanism (obtain all positions);\n",
    "2. Find absolute, transport and relative velocities and accelerations for M;\n",
    "3. Find t, when M reaches O point;\n",
    "4. draw plots $v_rel, v_tr, a_tr, a_rel, a$ respect to time.\n",
    "\n",
    "Needed variables:\n",
    "$\\phi_e = f_1(t) = 0.2t^3 + t;$\n",
    "$OM = s_r = f_2(t) = 5\\sqrt2(t^2 + t)$\n",
    "$a = 60, α = 45.$\n"
   ],
   "metadata": {
    "collapsed": false
   }
  },
  {
   "cell_type": "code",
   "source": [
    "import numpy as np\n",
    "import matplotlib.pyplot as plt\n",
    "import matplotlib.animation as anim\n",
    "from sympy import solve, diff, sin, cos, lambdify\n",
    "from sympy.abc import symbols\n",
    "from IPython.display import HTML, display\n",
    "\n",
    "\n"
   ],
   "metadata": {
    "id": "gvdltQIxNbWM",
    "ExecuteTime": {
     "end_time": "2024-02-09T20:58:28.574229900Z",
     "start_time": "2024-02-09T20:58:28.493316200Z"
    }
   },
   "execution_count": 629,
   "outputs": []
  }
 ]
}
