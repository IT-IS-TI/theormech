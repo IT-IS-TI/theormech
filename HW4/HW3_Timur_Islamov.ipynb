{
 "nbformat": 4,
 "nbformat_minor": 0,
 "metadata": {
  "colab": {
   "provenance": []
  },
  "kernelspec": {
   "name": "python3",
   "language": "python",
   "display_name": "Python 3 (ipykernel)"
  },
  "language_info": {
   "name": "python"
  }
 },
 "cells": [
  {
   "cell_type": "markdown",
   "source": [
    "# Homework 4"
   ],
   "metadata": {
    "id": "aG-3QfCF_qty"
   }
  },
  {
   "cell_type": "markdown",
   "source": [
    "A v statice ne nado delat' simulation, he-he :)"
   ],
   "metadata": {
    "collapsed": false
   }
  }
 ]
}
